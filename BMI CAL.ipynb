{
 "cells": [
  {
   "cell_type": "code",
   "execution_count": 1,
   "id": "e4477705",
   "metadata": {},
   "outputs": [],
   "source": [
    "import tkinter as tk\n",
    "from tkinter import messagebox\n",
    "\n",
    "# Function to calculate BMI\n",
    "def calculate_bmi():\n",
    "    try:\n",
    "        weight = float(entry_weight.get())\n",
    "        height = float(entry_height.get())\n",
    "        \n",
    "        # Calculate BMI\n",
    "        bmi = weight / (height ** 2)\n",
    "        bmi = round(bmi, 2)\n",
    "        \n",
    "        # Determine BMI category\n",
    "        if bmi < 18.5:\n",
    "            category = \"Underweight\"\n",
    "        elif 18.5 <= bmi < 24.9:\n",
    "            category = \"Normal weight\"\n",
    "        elif 25 <= bmi < 29.9:\n",
    "            category = \"Overweight\"\n",
    "        else:\n",
    "            category = \"Obesity\"\n",
    "        \n",
    "        # Display result\n",
    "        label_result.config(text=f\"BMI: {bmi}\\nCategory: {category}\")\n",
    "    except ValueError:\n",
    "        messagebox.showerror(\"Input Error\", \"Please enter valid numbers for weight and height.\")\n",
    "\n",
    "# Create the main application window\n",
    "app = tk.Tk()\n",
    "app.title(\"BMI Calculator\")\n",
    "app.geometry(\"300x200\")\n",
    "\n",
    "# Weight input\n",
    "label_weight = tk.Label(app, text=\"Enter your weight (kg):\")\n",
    "label_weight.pack()\n",
    "entry_weight = tk.Entry(app)\n",
    "entry_weight.pack()\n",
    "\n",
    "# Height input\n",
    "label_height = tk.Label(app, text=\"Enter your height (m):\")\n",
    "label_height.pack()\n",
    "entry_height = tk.Entry(app)\n",
    "entry_height.pack()\n",
    "\n",
    "# Calculate button\n",
    "button_calculate = tk.Button(app, text=\"Calculate BMI\", command=calculate_bmi)\n",
    "button_calculate.pack()\n",
    "\n",
    "# Result label\n",
    "label_result = tk.Label(app, text=\"\")\n",
    "label_result.pack()\n",
    "\n",
    "# Run the application\n",
    "app.mainloop()"
   ]
  },
  {
   "cell_type": "code",
   "execution_count": null,
   "id": "780f5613",
   "metadata": {},
   "outputs": [],
   "source": []
  },
  {
   "cell_type": "code",
   "execution_count": null,
   "id": "b0725927",
   "metadata": {},
   "outputs": [],
   "source": []
  }
 ],
 "metadata": {
  "kernelspec": {
   "display_name": "Python 3 (ipykernel)",
   "language": "python",
   "name": "python3"
  },
  "language_info": {
   "codemirror_mode": {
    "name": "ipython",
    "version": 3
   },
   "file_extension": ".py",
   "mimetype": "text/x-python",
   "name": "python",
   "nbconvert_exporter": "python",
   "pygments_lexer": "ipython3",
   "version": "3.9.13"
  }
 },
 "nbformat": 4,
 "nbformat_minor": 5
}
